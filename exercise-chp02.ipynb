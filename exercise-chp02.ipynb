{
 "cells": [
  {
   "cell_type": "markdown",
   "metadata": {},
   "source": [
    "# Exercise of Scala for the Impatient\n",
    "\n",
    "### Chapter 02\n",
    "\n",
    "1. The ```signum``` of a number is 1 if the number is positive, –1 if it is negative, and 0 if it is zero. Write a function that computes this value.\n",
    "2. What is the value of an empty block expression {}? What is its type?\n",
    "3. Come up with one situation where the assignment ```x = y = 1``` is valid in Scala. (Hint: Pick a suitable type for x.)\n",
    "4. Write a Scala equivalent for the Java loop\n",
    "```java\n",
    "for (int i = 10; i >= 0; i--) System.out.println(i);\n",
    "```\n",
    "5. Write a procedure ```countdown(n: Int)``` that prints the numbers from n to 0.\n",
    "6. Write a ```for``` loop for computing the product of the Unicode codes of all letters in a string. For example, the product of the characters in ```\"Hello\" is 9415087488L```.\n",
    "7. Solve the preceding exercise without writing a loop. (Hint: Look at the ```StringOps Scaladoc```.)\n",
    "8. Write a function ```product(s : String)``` that computes the product, as described in the preceding exercises.\n",
    "9. Make the function of the preceding exercise a recursive function.\n",
    "10. Write a function that computes x<sup>n</sup>, where n is an integer. Use the following recursive definition:  \n",
    "• x<sup>n</sup> = y · y if n is even and positive, where y = x<sup>n / 2</sup>.  \n",
    "• x<sup>n</sup> = x · x<sup>n – 1</sup> if n is odd and positive.  \n",
    "• x<sup>0</sup> = 1.  \n",
    "• x<sup>n</sup> = 1 / x<sup>–n</sup> if n is negative.  \n",
    "Don’t use a ```return``` statement.\n",
    "\n",
    "11. Define a string interpolator date so that you can define a ```java.time.LocalDate as date\"$year-$month-$day\"```. You need to define an “implicit” class with a date method, like this:\n",
    "\n",
    "```scala\n",
    "implicit class DateInterpolator(val sc: StringContext) extends AnyVal {\n",
    "  def date(args: Any*): LocalDate = . . .\n",
    "}\n",
    "```\n",
    ">```args(i)``` is the value of the ```i```th expression. Convert each to a string and then to an integer, and pass them to the ```LocalDate.of``` method. If you already know some Scala, add error handling. Throw an exception if there aren’t three arguments, or if they aren’t integers, or if they aren’t separated by dashes. (You get the strings in between the expressions as ```sc.parts```.)"
   ]
  },
  {
   "cell_type": "code",
   "execution_count": 4,
   "metadata": {
    "collapsed": false
   },
   "outputs": [
    {
     "data": {
      "text/plain": [
       "defined \u001b[32mfunction\u001b[39m \u001b[36msignum\u001b[39m\n",
       "\u001b[36mres3_1\u001b[39m: \u001b[32mInt\u001b[39m = \u001b[32m1\u001b[39m\n",
       "\u001b[36mres3_2\u001b[39m: \u001b[32mInt\u001b[39m = \u001b[32m-1\u001b[39m\n",
       "\u001b[36mres3_3\u001b[39m: \u001b[32mInt\u001b[39m = \u001b[32m0\u001b[39m"
      ]
     },
     "execution_count": 4,
     "metadata": {},
     "output_type": "execute_result"
    }
   ],
   "source": [
    "// 1\n",
    "def signum(number: Int) = {if (number > 0) 1; else if (number < 0) -1; else 0}\n",
    "signum(4)\n",
    "signum(-3)\n",
    "signum(0)"
   ]
  },
  {
   "cell_type": "code",
   "execution_count": null,
   "metadata": {
    "collapsed": true
   },
   "outputs": [],
   "source": [
    "// 2. Value of empty {} block is no-value, its type is Unit"
   ]
  },
  {
   "cell_type": "code",
   "execution_count": 6,
   "metadata": {
    "collapsed": false
   },
   "outputs": [
    {
     "data": {
      "text/plain": [
       "\u001b[36my\u001b[39m: \u001b[32mInt\u001b[39m = \u001b[32m1\u001b[39m"
      ]
     },
     "execution_count": 6,
     "metadata": {},
     "output_type": "execute_result"
    }
   ],
   "source": [
    "// 3\n",
    "var y = 9\n",
    "val x = y = 1"
   ]
  },
  {
   "cell_type": "code",
   "execution_count": 16,
   "metadata": {
    "collapsed": false
   },
   "outputs": [
    {
     "name": "stdout",
     "output_type": "stream",
     "text": [
      "10\n",
      "9\n",
      "8\n",
      "7\n",
      "6\n",
      "5\n",
      "4\n",
      "3\n",
      "2\n",
      "1\n",
      "0\n"
     ]
    }
   ],
   "source": [
    "// 4 \n",
    "for(i <- 0 to 10; val j = 10 - i) println(j)"
   ]
  },
  {
   "cell_type": "code",
   "execution_count": 15,
   "metadata": {
    "collapsed": false
   },
   "outputs": [
    {
     "name": "stdout",
     "output_type": "stream",
     "text": [
      "109876543210"
     ]
    },
    {
     "data": {
      "text/plain": [
       "defined \u001b[32mfunction\u001b[39m \u001b[36mcountDown\u001b[39m"
      ]
     },
     "execution_count": 15,
     "metadata": {},
     "output_type": "execute_result"
    }
   ],
   "source": [
    "// 5\n",
    "def countDown(n: Int) { for(i <- 0 to n) print(n-i)}\n",
    "countDown(10)"
   ]
  },
  {
   "cell_type": "code",
   "execution_count": 19,
   "metadata": {
    "collapsed": false
   },
   "outputs": [
    {
     "data": {
      "text/plain": [
       "\u001b[36mstr\u001b[39m: \u001b[32mString\u001b[39m = \u001b[32m\"Hello\"\u001b[39m\n",
       "\u001b[36mresult\u001b[39m: \u001b[32mLong\u001b[39m = \u001b[32m9415087488L\u001b[39m"
      ]
     },
     "execution_count": 19,
     "metadata": {},
     "output_type": "execute_result"
    }
   ],
   "source": [
    "// 6\n",
    "val str = \"Hello\"\n",
    "var result: Long = 1\n",
    "for (ch <- str) result *= ch.toInt"
   ]
  },
  {
   "cell_type": "code",
   "execution_count": 28,
   "metadata": {
    "collapsed": false
   },
   "outputs": [
    {
     "data": {
      "text/plain": [
       "\u001b[36mstr\u001b[39m: \u001b[32mString\u001b[39m = \u001b[32m\"Hello\"\u001b[39m\n",
       "\u001b[36municodeRes\u001b[39m: \u001b[32mLong\u001b[39m = \u001b[32m1L\u001b[39m\n",
       "\u001b[36mres27_2\u001b[39m: \u001b[32mLong\u001b[39m = \u001b[32m9415087488L\u001b[39m\n",
       "\u001b[36mres27_3\u001b[39m: \u001b[32mLong\u001b[39m = \u001b[32m9415087488L\u001b[39m\n",
       "\u001b[36mres27_4\u001b[39m: \u001b[32mLong\u001b[39m = \u001b[32m9415087488L\u001b[39m\n",
       "\u001b[36mres27_5\u001b[39m: \u001b[32mLong\u001b[39m = \u001b[32m9415087488L\u001b[39m"
      ]
     },
     "execution_count": 28,
     "metadata": {},
     "output_type": "execute_result"
    }
   ],
   "source": [
    "// 7\n",
    "val str = \"Hello\"\n",
    "var unicodeRes = 1L\n",
    "// Applies a binary operator to a start value and all elements of this sequence, going left to right.\n",
    "str.foldLeft[Long](unicodeRes)(_ * _.toInt)\n",
    "str.foldLeft(unicodeRes)(_ * _.toInt)\n",
    "str.foldLeft[Long](1)(_ * _.toInt)\n",
    "str.foldLeft(1L)(_ * _.toInt)"
   ]
  },
  {
   "cell_type": "code",
   "execution_count": 30,
   "metadata": {
    "collapsed": false
   },
   "outputs": [
    {
     "data": {
      "text/plain": [
       "defined \u001b[32mfunction\u001b[39m \u001b[36mproduct\u001b[39m\n",
       "\u001b[36mres29_1\u001b[39m: \u001b[32mLong\u001b[39m = \u001b[32m9415087488L\u001b[39m"
      ]
     },
     "execution_count": 30,
     "metadata": {},
     "output_type": "execute_result"
    }
   ],
   "source": [
    "// 8\n",
    "def product(str: String) = {\n",
    "    str.foldLeft(1L)(_ * _.toInt)\n",
    "}\n",
    "product(\"Hello\")"
   ]
  },
  {
   "cell_type": "code",
   "execution_count": 35,
   "metadata": {
    "collapsed": false
   },
   "outputs": [
    {
     "data": {
      "text/plain": [
       "defined \u001b[32mfunction\u001b[39m \u001b[36mproductRec\u001b[39m\n",
       "\u001b[36mres34_1\u001b[39m: \u001b[32mLong\u001b[39m = \u001b[32m9415087488L\u001b[39m"
      ]
     },
     "execution_count": 35,
     "metadata": {},
     "output_type": "execute_result"
    }
   ],
   "source": [
    "// 9\n",
    "def productRec(str: String): Long = {\n",
    "    if (str.length == 0) return 1\n",
    "    str.head.toInt * productRec(str.tail)\n",
    "}\n",
    "productRec(\"Hello\")"
   ]
  },
  {
   "cell_type": "code",
   "execution_count": 41,
   "metadata": {
    "collapsed": false
   },
   "outputs": [
    {
     "data": {
      "text/plain": [
       "defined \u001b[32mfunction\u001b[39m \u001b[36mpowCalc\u001b[39m\n",
       "\u001b[36mres40_1\u001b[39m: \u001b[32mDouble\u001b[39m = \u001b[32m32.0\u001b[39m\n",
       "\u001b[36mres40_2\u001b[39m: \u001b[32mDouble\u001b[39m = \u001b[32m0.125\u001b[39m\n",
       "\u001b[36mres40_3\u001b[39m: \u001b[32mDouble\u001b[39m = \u001b[32m1.0\u001b[39m"
      ]
     },
     "execution_count": 41,
     "metadata": {},
     "output_type": "execute_result"
    }
   ],
   "source": [
    "// 10\n",
    "def powCalc(x: Int, n: Int): Double = {\n",
    "    if (n < 0) 1 / (x * powCalc(x, -n-1))\n",
    "    else if (n > 0) x * powCalc(x, n-1)\n",
    "    else 1\n",
    "}\n",
    "powCalc(2,5)\n",
    "powCalc(2,-3)\n",
    "powCalc(2,0)"
   ]
  },
  {
   "cell_type": "code",
   "execution_count": 41,
   "metadata": {
    "collapsed": false
   },
   "outputs": [
    {
     "ename": "",
     "evalue": "",
     "output_type": "error",
     "traceback": [
      "SyntaxError: found \"package mypack {\\nobj\", expected TopPkgSeq | Import | Prelude ~ BlockDef | Expr | End at index 86",
      "package mypack {",
      "^"
     ]
    }
   ],
   "source": [
    "// 11 . Not complete to be done later\n",
    "import java.time.LocalDate\n",
    "import scala.AnyVal\n",
    "\n",
    "package mypack {\n",
    "object foo {\n",
    "\n",
    "implicit class DateInterpolator(val sc: StringContext) extends AnyVal {\n",
    "  def date(args: Any*): LocalDate = {\n",
    "    if (args.length < 3) print(\"Not enough parameters\")\n",
    "    try{\n",
    "      //LocalDate.of(args(0).toInt, args(1).toInt, args(2).toInt)\n",
    "    }\n",
    "    catch{\n",
    "      case _: Exception => println(\"Something gone wrong\")\n",
    "    }\n",
    "    LocalDate.of(11,1,1)\n",
    "  }\n",
    "}\n",
    "}\n",
    "}"
   ]
  },
  {
   "cell_type": "code",
   "execution_count": null,
   "metadata": {
    "collapsed": true
   },
   "outputs": [],
   "source": []
  }
 ],
 "metadata": {
  "kernelspec": {
   "display_name": "Scala 2.10",
   "language": "scala",
   "name": "scala"
  },
  "language_info": {
   "codemirror_mode": "text/x-scala",
   "file_extension": ".scala",
   "mimetype": "text/x-scala",
   "name": "scala211",
   "nbconvert_exporter": "script",
   "pygments_lexer": "scala",
   "version": "2.11.11"
  }
 },
 "nbformat": 4,
 "nbformat_minor": 2
}
