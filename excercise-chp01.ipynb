{
 "cells": [
  {
   "cell_type": "markdown",
   "metadata": {
    "collapsed": true
   },
   "source": [
    "# Execrise of Scala for the Impatient"
   ]
  },
  {
   "cell_type": "markdown",
   "metadata": {},
   "source": [
    "### Chapter 1"
   ]
  },
  {
   "cell_type": "markdown",
   "metadata": {},
   "source": [
    "1. In the Scala REPL, type 3. followed by the Tab key. What methods can be applied?\n",
    "2. In the Scala REPL, compute the square root of 3, and then square that value. By how much does the result differ from 3? (Hint: The res variables are your friend.)\n",
    "3. Are the res variables val or var?\n",
    "4. Scala lets you multiply a string with a number—try out \"crazy\" * 3 in the REPL. What does this operation do? Where can you find it in Scaladoc?\n",
    "5. What does 10 max 2 mean? In which class is the max method defined?\n",
    "6. Using BigInt, compute 21024.\n",
    "7. What do you need to import so that you can get a random prime as probablePrime(100, Random), without any qualifiers before probablePrime and Random?\n",
    "8. One way to create random file or directory names is to produce a random BigInt and convert it to base 36, yielding a string such as \"qsnvbevtomcj38o06kul\". Poke around Scaladoc to find a way of doing this in Scala.\n",
    "9. How do you get the first character of a string in Scala? The last character?\n",
    "10. What do the take, drop, takeRight, and dropRight string functions do? What advantage or disadvantage do they have over using substring?"
   ]
  },
  {
   "cell_type": "code",
   "execution_count": null,
   "metadata": {},
   "outputs": [],
   "source": [
    "// 2.\n",
    "import scala.math.pow\n",
    "pow(3,2)"
   ]
  },
  {
   "cell_type": "code",
   "execution_count": null,
   "metadata": {
    "collapsed": true
   },
   "outputs": [],
   "source": []
  }
 ],
 "metadata": {
  "kernelspec": {
   "display_name": "Scala 2.11",
   "language": "scala",
   "name": "scala"
  },
  "language_info": {
   "codemirror_mode": "text/x-scala",
   "file_extension": ".scala",
   "mimetype": "text/x-scala",
   "name": "scala211",
   "nbconvert_exporter": "script",
   "pygments_lexer": "scala",
   "version": "2.11.11"
  }
 },
 "nbformat": 4,
 "nbformat_minor": 2
}
