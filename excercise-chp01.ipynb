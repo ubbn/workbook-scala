{
 "cells": [
  {
   "cell_type": "markdown",
   "metadata": {
    "collapsed": true
   },
   "source": [
    "# Execrise of Scala for the Impatient"
   ]
  },
  {
   "cell_type": "markdown",
   "metadata": {},
   "source": [
    "### Chapter 1"
   ]
  },
  {
   "cell_type": "markdown",
   "metadata": {},
   "source": [
    "1. In the Scala REPL, type 3. followed by the Tab key. What methods can be applied?\n",
    "2. In the Scala REPL, compute the square root of 3, and then square that value. By how much does the result differ from 3? (Hint: The res variables are your friend.)\n",
    "3. Are the res variables val or var? (It is a val)\n",
    "4. Scala lets you multiply a string with a number—try out \"crazy\" * 3 in the REPL. What does this operation do? Where can you find it in Scaladoc?\n",
    "5. What does 10 max 2 mean? In which class is the max method defined?\n",
    "6. Using BigInt, compute 2<sup>1024</sup>.\n",
    "7. What do you need to import so that you can get a random prime as probablePrime(100, Random), without any qualifiers before probablePrime and Random?\n",
    "8. One way to create random file or directory names is to produce a random BigInt and convert it to base 36, yielding a string such as \"qsnvbevtomcj38o06kul\". Poke around Scaladoc to find a way of doing this in Scala.\n",
    "9. How do you get the first character of a string in Scala? The last character?\n",
    "10. What do the take, drop, takeRight, and dropRight string functions do? What advantage or disadvantage do they have over using substring?"
   ]
  },
  {
   "cell_type": "code",
   "execution_count": 24,
   "metadata": {
    "collapsed": false
   },
   "outputs": [
    {
     "data": {
      "text/plain": [
       "\u001b[32mimport \u001b[39m\u001b[36mscala.math.pow\n",
       "\u001b[39m\n",
       "\u001b[36mres23_1\u001b[39m: \u001b[32mDouble\u001b[39m = \u001b[32m9.0\u001b[39m\n",
       "\u001b[36mres23_2\u001b[39m: \u001b[32mString\u001b[39m = \u001b[32m\"crazycrazycrazy\"\u001b[39m\n",
       "\u001b[36mres23_3\u001b[39m: \u001b[32mInt\u001b[39m = \u001b[32m10\u001b[39m\n",
       "\u001b[36mres23_4\u001b[39m: \u001b[32mBigInt\u001b[39m = 179769313486231590772930519078902473361797697894230657273430081157732675805500963132708477322407536021120113879871393357658789768814416622492847430639474124377767893424865485276302219601246094119453082952085005768838150682342462881473913110540827237163350510684586298239947245938479716304835356329624224137216\n",
       "\u001b[36mres23_5\u001b[39m: \u001b[32mDouble\u001b[39m = \u001b[32mInfinity\u001b[39m"
      ]
     },
     "execution_count": 24,
     "metadata": {},
     "output_type": "execute_result"
    }
   ],
   "source": [
    "// 2\n",
    "import scala.math.pow\n",
    "pow(3,2)\n",
    "\n",
    "// 4\n",
    "\"crazy\" * 3\n",
    "\n",
    "// 5. \n",
    "10 max 2    // max is defined in BigInt\n",
    "\n",
    "// 6 \n",
    "BigInt(2).pow(1024)\n",
    "pow(2, 1024)              // Overflown to infinity"
   ]
  },
  {
   "cell_type": "code",
   "execution_count": 11,
   "metadata": {
    "collapsed": false
   },
   "outputs": [
    {
     "data": {
      "text/plain": [
       "\u001b[32mimport \u001b[39m\u001b[36mscala.math.BigInt\n",
       "\u001b[39m\n",
       "\u001b[32mimport \u001b[39m\u001b[36mscala.util.Random\n",
       "\u001b[39m\n",
       "\u001b[36mres10_2\u001b[39m: \u001b[32mBigInt\u001b[39m = 993333218896039193400076823593"
      ]
     },
     "execution_count": 11,
     "metadata": {},
     "output_type": "execute_result"
    }
   ],
   "source": [
    "// 7\n",
    "import scala.math.BigInt\n",
    "import scala.util.Random\n",
    "probablePrime(100, Random)"
   ]
  },
  {
   "cell_type": "code",
   "execution_count": 12,
   "metadata": {
    "collapsed": false
   },
   "outputs": [
    {
     "data": {
      "text/plain": [
       "\u001b[36mnumber\u001b[39m: \u001b[32mBigInt\u001b[39m = 1141209578785955545334733725459\n",
       "\u001b[36mres11_1\u001b[39m: \u001b[32mString\u001b[39m = \u001b[32m\"32n45mq0nbecwc8yhpub\"\u001b[39m"
      ]
     },
     "execution_count": 12,
     "metadata": {},
     "output_type": "execute_result"
    }
   ],
   "source": [
    "// 8 \n",
    "val number = probablePrime(100, Random)\n",
    "number.toString(36)"
   ]
  },
  {
   "cell_type": "code",
   "execution_count": 20,
   "metadata": {
    "collapsed": false
   },
   "outputs": [
    {
     "data": {
      "text/plain": [
       "\u001b[36mres19_0\u001b[39m: \u001b[32mString\u001b[39m = \u001b[32m\"M\"\u001b[39m\n",
       "\u001b[36mres19_1\u001b[39m: \u001b[32mString\u001b[39m = \u001b[32m\"s\"\u001b[39m"
      ]
     },
     "execution_count": 20,
     "metadata": {},
     "output_type": "execute_result"
    }
   ],
   "source": [
    "// 9\n",
    "\"MyNameIs\".take(1) // first 1 char\n",
    "\"MyNameIs\".takeRight(1) // last 1 char"
   ]
  },
  {
   "cell_type": "code",
   "execution_count": 23,
   "metadata": {
    "collapsed": false
   },
   "outputs": [
    {
     "data": {
      "text/plain": [
       "\u001b[36mres22_0\u001b[39m: \u001b[32mString\u001b[39m = \u001b[32m\"yNameIs\"\u001b[39m\n",
       "\u001b[36mres22_1\u001b[39m: \u001b[32mString\u001b[39m = \u001b[32m\"MyNameI\"\u001b[39m"
      ]
     },
     "execution_count": 23,
     "metadata": {},
     "output_type": "execute_result"
    }
   ],
   "source": [
    "// 10\n",
    "\"MyNameIs\".drop(1)   // remove first 1 char\n",
    "\"MyNameIs\".dropRight(1) // remove last 1 char"
   ]
  }
 ],
 "metadata": {
  "kernelspec": {
   "display_name": "Scala 2.10",
   "language": "scala",
   "name": "scala"
  },
  "language_info": {
   "codemirror_mode": "text/x-scala",
   "file_extension": ".scala",
   "mimetype": "text/x-scala",
   "name": "scala211",
   "nbconvert_exporter": "script",
   "pygments_lexer": "scala",
   "version": "2.11.11"
  }
 },
 "nbformat": 4,
 "nbformat_minor": 2
}
