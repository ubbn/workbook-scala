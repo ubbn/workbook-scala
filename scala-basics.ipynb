{
 "cells": [
  {
   "cell_type": "markdown",
   "metadata": {},
   "source": [
    "## About Scala"
   ]
  },
  {
   "cell_type": "markdown",
   "metadata": {},
   "source": [
    "It is general purpose programming language and has following features:\n",
    "- supports both OOP and Functional programming\n",
    "- highly concurrent\n",
    "- can use any library of Java\n",
    "- has very rich methods similar to Ruby style"
   ]
  },
  {
   "cell_type": "markdown",
   "metadata": {},
   "source": [
    "## Declaring Values and Variables"
   ]
  },
  {
   "cell_type": "code",
   "execution_count": 1,
   "metadata": {},
   "outputs": [
    {
     "data": {
      "text/plain": [
       "\u001b[36mstr\u001b[39m: \u001b[32mString\u001b[39m = \u001b[32m\"Sun\"\u001b[39m\n",
       "\u001b[36mbtr\u001b[39m: \u001b[32mString\u001b[39m = \u001b[32m\"Pluto\"\u001b[39m"
      ]
     },
     "execution_count": 1,
     "metadata": {},
     "output_type": "execute_result"
    }
   ],
   "source": [
    "// declaring value, once declared its value can't be changed, Recommended way!\n",
    "val str = \"Sun\"\n",
    "// str = \"Moon\"  // fail to compile\n",
    "\n",
    "// Variable declaration, can be reassigned. Not recommended!\n",
    "var btr = \"Moon\"\n",
    "btr = \"Pluto\""
   ]
  },
  {
   "cell_type": "markdown",
   "metadata": {},
   "source": [
    "Variable type is not mandatory during declaration because it is inferred. If needs to specify, it goes with colon after name of the variable or value and before the assignment operation"
   ]
  },
  {
   "cell_type": "code",
   "execution_count": 12,
   "metadata": {},
   "outputs": [
    {
     "data": {
      "text/plain": [
       "\u001b[36mgreetValue\u001b[39m: \u001b[32mString\u001b[39m = \u001b[32m\"Hello\"\u001b[39m\n",
       "\u001b[36mgreetVariable\u001b[39m: \u001b[32mString\u001b[39m = \u001b[32m\"Hejhej\"\u001b[39m"
      ]
     },
     "execution_count": 12,
     "metadata": {},
     "output_type": "execute_result"
    }
   ],
   "source": [
    "val greetValue: String = \"Hello\"\n",
    "var greetVariable: String = \"Hejhej\""
   ]
  },
  {
   "cell_type": "code",
   "execution_count": 14,
   "metadata": {},
   "outputs": [
    {
     "data": {
      "text/plain": [
       "\u001b[36ma1\u001b[39m: \u001b[32mInteger\u001b[39m = 3\n",
       "\u001b[36ma2\u001b[39m: \u001b[32mInteger\u001b[39m = 3\n",
       "\u001b[36ma3\u001b[39m: \u001b[32mInteger\u001b[39m = 3\n",
       "\u001b[36ms1\u001b[39m: \u001b[32mString\u001b[39m = \u001b[32m\"strings\"\u001b[39m\n",
       "\u001b[36ms2\u001b[39m: \u001b[32mString\u001b[39m = \u001b[32m\"strings\"\u001b[39m\n",
       "\u001b[36ms3\u001b[39m: \u001b[32mString\u001b[39m = \u001b[32m\"strings\"\u001b[39m"
      ]
     },
     "execution_count": 14,
     "metadata": {},
     "output_type": "execute_result"
    }
   ],
   "source": [
    "// multiple variables or values can be declared together\n",
    "val a1, a2, a3: Integer = 3\n",
    "var s1, s2, s3: String = \"strings\""
   ]
  },
  {
   "cell_type": "markdown",
   "metadata": {},
   "source": [
    "## Types"
   ]
  },
  {
   "cell_type": "markdown",
   "metadata": {},
   "source": [
    "- Scala has several types including 7 numeric types: ```Byte, Char, Short, Int, Long, Float, Double and Boolean```\n",
    "- Unlike Java, those are classes and there is no distinction between primitive types and class types.\n",
    "- There is no Wrapper types. Scala compiler converts between primitive and wrapper types. "
   ]
  },
  {
   "cell_type": "code",
   "execution_count": 23,
   "metadata": {},
   "outputs": [
    {
     "data": {
      "text/plain": [
       "\u001b[36mres22\u001b[39m: \u001b[32mString\u001b[39m = \u001b[32m\"33\"\u001b[39m"
      ]
     },
     "execution_count": 23,
     "metadata": {},
     "output_type": "execute_result"
    }
   ],
   "source": [
    "33.toString"
   ]
  },
  {
   "cell_type": "code",
   "execution_count": 20,
   "metadata": {},
   "outputs": [
    {
     "data": {
      "text/plain": [
       "\u001b[36mres19\u001b[39m: \u001b[32mRange\u001b[39m.\u001b[32mInclusive\u001b[39m = \u001b[33mRange\u001b[39m(\u001b[32m1\u001b[39m, \u001b[32m2\u001b[39m, \u001b[32m3\u001b[39m, \u001b[32m4\u001b[39m, \u001b[32m5\u001b[39m, \u001b[32m6\u001b[39m, \u001b[32m7\u001b[39m, \u001b[32m8\u001b[39m, \u001b[32m9\u001b[39m, \u001b[32m10\u001b[39m)"
      ]
     },
     "execution_count": 20,
     "metadata": {},
     "output_type": "execute_result"
    }
   ],
   "source": [
    "1.to(10)   // Int is converted to RichInt"
   ]
  },
  {
   "cell_type": "markdown",
   "metadata": {},
   "source": [
    "String type is based on java.lang.String class. But its ```StringOps``` has richer methods. Below String object is converted to ```StringOps``` object which provides such many rich methods"
   ]
  },
  {
   "cell_type": "code",
   "execution_count": 27,
   "metadata": {},
   "outputs": [
    {
     "data": {
      "text/plain": [
       "\u001b[36mres26_0\u001b[39m: \u001b[32mString\u001b[39m = \u001b[32m\"lo\"\u001b[39m\n",
       "\u001b[36mres26_1\u001b[39m: \u001b[32mString\u001b[39m = \u001b[32m\"ainrt\"\u001b[39m"
      ]
     },
     "execution_count": 27,
     "metadata": {},
     "output_type": "execute_result"
    }
   ],
   "source": [
    "\"Hello\".intersect(\"Cool\")\n",
    "\"train\".sorted"
   ]
  },
  {
   "cell_type": "markdown",
   "metadata": {},
   "source": [
    "There are also ```RichInt, RichDouble, RichChar``` etc. types which are superior to their base types. Also, there are classes ```BigInt BigDecimal``` for infinite numbers. Those are more suitable than java's ```java.math.BigInteger java.math.BigDecimal``` because they can be used directly used in usual math calc."
   ]
  },
  {
   "cell_type": "markdown",
   "metadata": {},
   "source": [
    "Scala uses method to cast types. ```99.32.toInt() // 99```"
   ]
  },
  {
   "cell_type": "code",
   "execution_count": 21,
   "metadata": {},
   "outputs": [
    {
     "data": {
      "text/plain": [
       "\u001b[36mres20\u001b[39m: \u001b[32mRange\u001b[39m.\u001b[32mInclusive\u001b[39m = \u001b[33mRange\u001b[39m(\u001b[32m1\u001b[39m, \u001b[32m2\u001b[39m, \u001b[32m3\u001b[39m, \u001b[32m4\u001b[39m, \u001b[32m5\u001b[39m, \u001b[32m6\u001b[39m, \u001b[32m7\u001b[39m, \u001b[32m8\u001b[39m, \u001b[32m9\u001b[39m, \u001b[32m10\u001b[39m)"
      ]
     },
     "execution_count": 21,
     "metadata": {},
     "output_type": "execute_result"
    }
   ],
   "source": [
    "1 to 10"
   ]
  },
  {
   "cell_type": "markdown",
   "metadata": {
    "collapsed": true
   },
   "source": [
    "## Operators and Methods"
   ]
  },
  {
   "cell_type": "markdown",
   "metadata": {
    "collapsed": true
   },
   "source": [
    "- Parameterless method doesn't require bracket when called. \n",
    "- Underscore(\\_) is wildcard like * in Java, look below:  \n",
    "```import scala.math._```\n",
    "- A class has ***companion object*** whose methods act like Java static methods. For example, ***BigInt*** companion object to ```scala.math.BigInt``` class has a method ```probablePrime``` that generate random prime number"
   ]
  },
  {
   "cell_type": "code",
   "execution_count": 1,
   "metadata": {},
   "outputs": [
    {
     "data": {
      "text/plain": [
       "\u001b[36mres0\u001b[39m: \u001b[32mBigInt\u001b[39m = 669790411510575429795145026971"
      ]
     },
     "execution_count": 1,
     "metadata": {},
     "output_type": "execute_result"
    }
   ],
   "source": [
    "BigInt.probablePrime(100, scala.util.Random)"
   ]
  },
  {
   "cell_type": "markdown",
   "metadata": {},
   "source": [
    "- All operators are actually methods. \n",
    "- Method name can contain non-alphabetic characters like (/% etc)\n",
    "- There are no ++ or -- operators. Instead use += or -="
   ]
  },
  {
   "cell_type": "code",
   "execution_count": 25,
   "metadata": {},
   "outputs": [
    {
     "data": {
      "text/plain": [
       "\u001b[36mres24_0\u001b[39m: \u001b[32mInt\u001b[39m = \u001b[32m8\u001b[39m\n",
       "\u001b[36mres24_1\u001b[39m: \u001b[32mInt\u001b[39m = \u001b[32m8\u001b[39m\n",
       "\u001b[36mres24_2\u001b[39m: \u001b[32mRange\u001b[39m.\u001b[32mInclusive\u001b[39m = \u001b[33mRange\u001b[39m(\u001b[32m2\u001b[39m, \u001b[32m3\u001b[39m, \u001b[32m4\u001b[39m, \u001b[32m5\u001b[39m)\n",
       "\u001b[36mres24_3\u001b[39m: \u001b[32mRange\u001b[39m.\u001b[32mInclusive\u001b[39m = \u001b[33mRange\u001b[39m(\u001b[32m2\u001b[39m, \u001b[32m3\u001b[39m, \u001b[32m4\u001b[39m, \u001b[32m5\u001b[39m)\n",
       "\u001b[36mres24_4\u001b[39m: \u001b[32mInt\u001b[39m = \u001b[32m5\u001b[39m\n",
       "\u001b[36mres24_5\u001b[39m: \u001b[32mString\u001b[39m = \u001b[32m\"OneOneOne\"\u001b[39m"
      ]
     },
     "execution_count": 25,
     "metadata": {},
     "output_type": "execute_result"
    }
   ],
   "source": [
    "3 + 5\n",
    "3.+(5)\n",
    "\n",
    "2.to(5)\n",
    "2 to 5\n",
    "\n",
    "3 max 5   //  5\n",
    "\n",
    "\"One\" * 3 // OneOneOne"
   ]
  },
  {
   "cell_type": "code",
   "execution_count": null,
   "metadata": {
    "collapsed": true
   },
   "outputs": [],
   "source": []
  },
  {
   "cell_type": "markdown",
   "metadata": {},
   "source": [
    "**Apply method**  \n",
    "Apply method closes gap between OOP and Functional paradigms. Every function in Scala can be represented as an object and has OO type. In other words, apply method implemented in any class can be omitted on call. All belows are equivalent"
   ]
  },
  {
   "cell_type": "code",
   "execution_count": 4,
   "metadata": {},
   "outputs": [
    {
     "data": {
      "text/plain": [
       "\u001b[36mres3_0\u001b[39m: \u001b[32mChar\u001b[39m = \u001b[32m'e'\u001b[39m\n",
       "\u001b[36mres3_1\u001b[39m: \u001b[32mChar\u001b[39m = \u001b[32m'e'\u001b[39m"
      ]
     },
     "execution_count": 4,
     "metadata": {},
     "output_type": "execute_result"
    }
   ],
   "source": [
    "\"Cheetah\".apply(2)\n",
    "\"Cheetah\"(2)"
   ]
  },
  {
   "cell_type": "code",
   "execution_count": 5,
   "metadata": {},
   "outputs": [
    {
     "data": {
      "text/plain": [
       "\u001b[36mres4_0\u001b[39m: \u001b[32mBigInt\u001b[39m = 123\n",
       "\u001b[36mres4_1\u001b[39m: \u001b[32mBigInt\u001b[39m = 123"
      ]
     },
     "execution_count": 5,
     "metadata": {},
     "output_type": "execute_result"
    }
   ],
   "source": [
    "BigInt(\"123\")\n",
    "BigInt.apply(\"123\")"
   ]
  },
  {
   "cell_type": "code",
   "execution_count": 7,
   "metadata": {},
   "outputs": [
    {
     "data": {
      "text/plain": [
       "\u001b[36mres6_0\u001b[39m: \u001b[32mList\u001b[39m[\u001b[32mInt\u001b[39m] = \u001b[33mList\u001b[39m(\u001b[32m1\u001b[39m, \u001b[32m2\u001b[39m, \u001b[32m3\u001b[39m)\n",
       "\u001b[36mres6_1\u001b[39m: \u001b[32mList\u001b[39m[\u001b[32mInt\u001b[39m] = \u001b[33mList\u001b[39m(\u001b[32m1\u001b[39m, \u001b[32m2\u001b[39m, \u001b[32m3\u001b[39m)"
      ]
     },
     "execution_count": 7,
     "metadata": {},
     "output_type": "execute_result"
    }
   ],
   "source": [
    "List(1,2,3)\n",
    "List.apply(1,2,3)"
   ]
  },
  {
   "cell_type": "code",
   "execution_count": null,
   "metadata": {
    "collapsed": true
   },
   "outputs": [],
   "source": []
  },
  {
   "cell_type": "code",
   "execution_count": 29,
   "metadata": {},
   "outputs": [
    {
     "data": {
      "text/plain": [
       "\u001b[32mimport \u001b[39m\u001b[36mscala.math._\n",
       "\u001b[39m\n",
       "\u001b[36mres28_1\u001b[39m: \u001b[32mDouble\u001b[39m = \u001b[32m9.0\u001b[39m\n",
       "\u001b[36mres28_2\u001b[39m: \u001b[32mDouble\u001b[39m = \u001b[32m3.0\u001b[39m\n",
       "\u001b[36mres28_3\u001b[39m: \u001b[32mBigInt\u001b[39m = 179769313486231590772930519078902473361797697894230657273430081157732675805500963132708477322407536021120113879871393357658789768814416622492847430639474124377767893424865485276302219601246094119453082952085005768838150682342462881473913110540827237163350510684586298239947245938479716304835356329624224137216\n",
       "\u001b[36mres28_4\u001b[39m: \u001b[32mDouble\u001b[39m = \u001b[32mInfinity\u001b[39m"
      ]
     },
     "execution_count": 29,
     "metadata": {},
     "output_type": "execute_result"
    }
   ],
   "source": [
    "import scala.math._\n",
    "pow(3, 2)\n",
    "sqrt(pow(3, 2))\n",
    "BigInt(2).pow(1024)   // can handle infinite number\n",
    "pow(2, 1024)  // It is too big for Double, so yields Infinity"
   ]
  },
  {
   "cell_type": "code",
   "execution_count": 33,
   "metadata": {},
   "outputs": [
    {
     "data": {
      "text/plain": [
       "\u001b[32mimport \u001b[39m\u001b[36mscala.util._\n",
       "\u001b[39m\n",
       "\u001b[32mimport \u001b[39m\u001b[36mscala.math.BigInt._\n",
       "\u001b[39m\n",
       "\u001b[36mprime\u001b[39m: \u001b[32mBigInt\u001b[39m = 749401259245247206289\n",
       "\u001b[36mres32_3\u001b[39m: \u001b[32mString\u001b[39m = \u001b[32m\"4e5lkvggtht85t\"\u001b[39m"
      ]
     },
     "execution_count": 33,
     "metadata": {},
     "output_type": "execute_result"
    }
   ],
   "source": [
    "import scala.util._\n",
    "import scala.math.BigInt._\n",
    "val prime = probablePrime(70, Random)\n",
    "prime.toString(36)"
   ]
  },
  {
   "cell_type": "code",
   "execution_count": null,
   "metadata": {
    "collapsed": true
   },
   "outputs": [],
   "source": [
    "\n"
   ]
  },
  {
   "cell_type": "code",
   "execution_count": null,
   "metadata": {
    "collapsed": true
   },
   "outputs": [],
   "source": []
  },
  {
   "cell_type": "code",
   "execution_count": null,
   "metadata": {
    "collapsed": true
   },
   "outputs": [],
   "source": []
  },
  {
   "cell_type": "code",
   "execution_count": null,
   "metadata": {
    "collapsed": true
   },
   "outputs": [],
   "source": []
  },
  {
   "cell_type": "code",
   "execution_count": null,
   "metadata": {
    "collapsed": true
   },
   "outputs": [],
   "source": [
    "S"
   ]
  }
 ],
 "metadata": {
  "kernelspec": {
   "display_name": "Scala 2.11",
   "language": "scala",
   "name": "scala"
  },
  "language_info": {
   "codemirror_mode": "text/x-scala",
   "file_extension": ".scala",
   "mimetype": "text/x-scala",
   "name": "scala211",
   "nbconvert_exporter": "script",
   "pygments_lexer": "scala",
   "version": "2.11.11"
  }
 },
 "nbformat": 4,
 "nbformat_minor": 2
}
