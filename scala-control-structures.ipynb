{
 "cells": [
  {
   "cell_type": "markdown",
   "metadata": {},
   "source": [
    "## Control Structures"
   ]
  },
  {
   "cell_type": "markdown",
   "metadata": {},
   "source": [
    "### if/else statement\n",
    "```if/else``` statement is same as Java. But expression can directly yield a value. It can initialize a ```val```"
   ]
  },
  {
   "cell_type": "code",
   "execution_count": 1,
   "metadata": {
    "collapsed": false
   },
   "outputs": [
    {
     "data": {
      "text/plain": [
       "\u001b[36mres0\u001b[39m: \u001b[32mInt\u001b[39m = \u001b[32m1\u001b[39m"
      ]
     },
     "execution_count": 1,
     "metadata": {},
     "output_type": "execute_result"
    }
   ],
   "source": [
    "if (\"a\" > \"4\") 1 else 0"
   ]
  },
  {
   "cell_type": "code",
   "execution_count": 2,
   "metadata": {
    "collapsed": false
   },
   "outputs": [
    {
     "data": {
      "text/plain": [
       "\u001b[36mnum\u001b[39m: \u001b[32mInt\u001b[39m = \u001b[32m0\u001b[39m"
      ]
     },
     "execution_count": 2,
     "metadata": {},
     "output_type": "execute_result"
    }
   ],
   "source": [
    "val num = if (\"i\" == \"u\") 1 else 0"
   ]
  },
  {
   "cell_type": "code",
   "execution_count": 4,
   "metadata": {
    "collapsed": false
   },
   "outputs": [
    {
     "data": {
      "text/plain": [
       "\u001b[36msomeValue\u001b[39m: \u001b[32mAny\u001b[39m = 0"
      ]
     },
     "execution_count": 4,
     "metadata": {},
     "output_type": "execute_result"
    }
   ],
   "source": [
    "// Expressions on condition can be of different types\n",
    "// resulted type will be Any, super to both\n",
    "val someValue = if (true == false) \"Yes\" else 0"
   ]
  },
  {
   "cell_type": "code",
   "execution_count": 14,
   "metadata": {
    "collapsed": false
   },
   "outputs": [
    {
     "data": {
      "text/plain": [
       "\u001b[36mres13_0\u001b[39m: \u001b[32mAny\u001b[39m = ()\n",
       "\u001b[36mres13_1\u001b[39m: \u001b[32mAny\u001b[39m = ()"
      ]
     },
     "execution_count": 14,
     "metadata": {},
     "output_type": "execute_result"
    }
   ],
   "source": [
    "// No value placeholder. Below 2 yields \"no value\" which is represented in bracket ()\n",
    "if (1 > 10) \"yes\"\n",
    "if (1 > 10) \"yes\" else ()"
   ]
  },
  {
   "cell_type": "markdown",
   "metadata": {},
   "source": [
    "- Semicolon(```;```) is optional to be at end of line. However, if there are multiple statements in one line, they should be seperated by semicolon. \n",
    "- Multiple lines of statements can be wrapped in block of ```{ }```\n",
    "- Value of block expression in ```{ }``` is what last expression yields\n",
    "- Chained assignment is not supported unlike Java or C++"
   ]
  },
  {
   "cell_type": "code",
   "execution_count": 31,
   "metadata": {
    "collapsed": false
   },
   "outputs": [
    {
     "data": {
      "text/plain": [
       "\u001b[36mres30_0\u001b[39m: \u001b[32mAny\u001b[39m = right\n",
       "\u001b[36msquare\u001b[39m: \u001b[32mInt\u001b[39m = \u001b[32m50\u001b[39m"
      ]
     },
     "execution_count": 31,
     "metadata": {},
     "output_type": "execute_result"
    }
   ],
   "source": [
    "if (2 == 2) { \"yes\"; \"right\" } else 1\n",
    "val square = { val w=10; val h=5; w * h }\n",
    "\n",
    "// compilation error\n",
    "// var xa = ya = 1"
   ]
  },
  {
   "cell_type": "markdown",
   "metadata": {},
   "source": [
    "### Input and Output"
   ]
  },
  {
   "cell_type": "markdown",
   "metadata": {},
   "source": [
    "There are 3 print methods in Scala. Use ```f``` to represent formatted string and ```$``` in front of variable name, and expression can be wrap"
   ]
  },
  {
   "cell_type": "code",
   "execution_count": 29,
   "metadata": {
    "collapsed": false
   },
   "outputs": [
    {
     "name": "stdout",
     "output_type": "stream",
     "text": [
      "Weekend: glorious\n",
      "What a glorious weekend\n",
      "What a glorious weekend"
     ]
    },
    {
     "data": {
      "text/plain": [
       "\u001b[36mstr\u001b[39m: \u001b[32mString\u001b[39m = \u001b[32m\"glorious\"\u001b[39m"
      ]
     },
     "execution_count": 29,
     "metadata": {},
     "output_type": "execute_result"
    }
   ],
   "source": [
    "val str = \"glorious\"\n",
    "print(\"Weekend: \")\n",
    "println(str)\n",
    "printf(\"What a %s weekend\\n\", str)\n",
    "\n",
    "// String interplotation\n",
    "print(f\"What a $str weekend\")"
   ]
  },
  {
   "cell_type": "markdown",
   "metadata": {},
   "source": [
    "To read input in ```String``` from console, we can use **```readLine```** method from ```scala.io.StdIn``` class. There are also methods like ```readInt, readDouble, readByte, readShort, readLong, readFloat, readBoolean``` and ```readChar``` to read their respective type of value"
   ]
  },
  {
   "cell_type": "code",
   "execution_count": 33,
   "metadata": {
    "collapsed": false
   },
   "outputs": [
    {
     "name": "stdout",
     "output_type": "stream",
     "text": [
      "Enter a char: "
     ]
    },
    {
     "data": {
      "text/plain": [
       "\u001b[32mimport \u001b[39m\u001b[36mscala.io.StdIn\n",
       "\u001b[39m\n",
       "\u001b[36mname\u001b[39m: \u001b[32mString\u001b[39m = null"
      ]
     },
     "execution_count": 33,
     "metadata": {},
     "output_type": "execute_result"
    }
   ],
   "source": [
    "import scala.io.StdIn\n",
    "val name = readLine(\"Enter a char: \")"
   ]
  },
  {
   "cell_type": "markdown",
   "metadata": {},
   "source": [
    "### Loops"
   ]
  },
  {
   "cell_type": "markdown",
   "metadata": {},
   "source": [
    "Scala has ```while``` and ```do``` loops, but not standard ```for``` loop like in Java or C++: ```for(init; test; update)```. However, you can use   \n",
    "```scala\n",
    "for(i <- expression)\n",
    "```   \n",
    "syntax where ```i``` traverses all values returned by the expression."
   ]
  },
  {
   "cell_type": "code",
   "execution_count": 39,
   "metadata": {
    "collapsed": false
   },
   "outputs": [
    {
     "name": "stdout",
     "output_type": "stream",
     "text": [
      "10\n",
      "11\n",
      "12\n",
      "13\n",
      "14\n",
      "15\n",
      "Simple"
     ]
    }
   ],
   "source": [
    "for (i <- 10 to 15) \n",
    "    println(i)\n",
    "\n",
    "for (ch <- \"Simple\")  // loop through all chars\n",
    "    print(ch)"
   ]
  },
  {
   "cell_type": "markdown",
   "metadata": {},
   "source": [
    "Scala doesn't have **```break```** or **```continue```** statement to get out of loop. Several ways to replicate this logic is following:  \n",
    "- Use ```Boolean``` control value\n",
    "- use nested function\n",
    "- use ```break``` method from ```scala.util.control.Breaks``` class (import or use that long chain)\n",
    "\n",
    "Scala can handle same named variables declared in and outside of the loop unlike Java or other languages.  \n",
    "Below are some **Advanced use** of ```for``` loop in Scala"
   ]
  },
  {
   "cell_type": "code",
   "execution_count": 47,
   "metadata": {
    "collapsed": false
   },
   "outputs": [
    {
     "name": "stdout",
     "output_type": "stream",
     "text": [
      "11 12 13 21 22 23 31 32 33 "
     ]
    }
   ],
   "source": [
    "// double loop\n",
    "for(i <- 1 to 3; j <- 1 to 3) print(f\"$i$j \")"
   ]
  },
  {
   "cell_type": "code",
   "execution_count": 46,
   "metadata": {
    "collapsed": false
   },
   "outputs": [
    {
     "name": "stdout",
     "output_type": "stream",
     "text": [
      "12 13 21 23 31 32 "
     ]
    }
   ],
   "source": [
    "// condition in loop\n",
    "for(i <- 1 to 3; j <- 1 to 3 if i!=j) print(f\"$i$j \")"
   ]
  },
  {
   "cell_type": "code",
   "execution_count": 49,
   "metadata": {
    "collapsed": false
   },
   "outputs": [
    {
     "name": "stdout",
     "output_type": "stream",
     "text": [
      "13 22 23 31 32 33 "
     ]
    }
   ],
   "source": [
    "// any number of definitions inside a loop\n",
    "for(i <- 1 to 3; til = 4 - i; j<- til to 3) print(f\"${10*i + j} \")"
   ]
  },
  {
   "cell_type": "markdown",
   "metadata": {},
   "source": [
    "```for``` loop constructs a collection called __for comprehension__. Keyword **```yield```** is used to generate each item in a collection"
   ]
  },
  {
   "cell_type": "code",
   "execution_count": 54,
   "metadata": {
    "collapsed": false
   },
   "outputs": [
    {
     "data": {
      "text/plain": [
       "\u001b[36mres53\u001b[39m: \u001b[32mcollection\u001b[39m.\u001b[32mimmutable\u001b[39m.\u001b[32mIndexedSeq\u001b[39m[\u001b[32mInt\u001b[39m] = \u001b[33mVector\u001b[39m(\u001b[32m1\u001b[39m, \u001b[32m4\u001b[39m, \u001b[32m9\u001b[39m, \u001b[32m16\u001b[39m, \u001b[32m25\u001b[39m)"
      ]
     },
     "execution_count": 54,
     "metadata": {},
     "output_type": "execute_result"
    }
   ],
   "source": [
    "for(i <- 1 to 5) yield i*i"
   ]
  },
  {
   "cell_type": "code",
   "execution_count": 58,
   "metadata": {
    "collapsed": false
   },
   "outputs": [
    {
     "data": {
      "text/plain": [
       "\u001b[36mres57\u001b[39m: \u001b[32mString\u001b[39m = \u001b[32m\"HIeflmlmop\"\u001b[39m"
      ]
     },
     "execution_count": 58,
     "metadata": {},
     "output_type": "execute_result"
    }
   ],
   "source": [
    "for(ch <- \"Hello\"; i <- 0 to 1) yield (ch + i).toChar"
   ]
  },
  {
   "cell_type": "code",
   "execution_count": 59,
   "metadata": {
    "collapsed": false
   },
   "outputs": [
    {
     "data": {
      "text/plain": [
       "\u001b[36mres58\u001b[39m: \u001b[32mcollection\u001b[39m.\u001b[32mimmutable\u001b[39m.\u001b[32mIndexedSeq\u001b[39m[\u001b[32mChar\u001b[39m] = \u001b[33mVector\u001b[39m(\u001b[32m'H'\u001b[39m, \u001b[32m'e'\u001b[39m, \u001b[32m'l'\u001b[39m, \u001b[32m'l'\u001b[39m, \u001b[32m'o'\u001b[39m, \u001b[32m'I'\u001b[39m, \u001b[32m'f'\u001b[39m, \u001b[32m'm'\u001b[39m, \u001b[32m'm'\u001b[39m, \u001b[32m'p'\u001b[39m)"
      ]
     },
     "execution_count": 59,
     "metadata": {},
     "output_type": "execute_result"
    }
   ],
   "source": [
    "for(i <- 0 to 1; ch <- \"Hello\") yield (ch + i).toChar"
   ]
  },
  {
   "cell_type": "markdown",
   "metadata": {},
   "source": [
    "There is a possibility to replace bracket ```( )```  with curly bracket ```{ }```.   \n",
    "Also, instead of semicolon, new line can be used to seperate generators, guards and definitions."
   ]
  },
  {
   "cell_type": "code",
   "execution_count": 60,
   "metadata": {
    "collapsed": false
   },
   "outputs": [
    {
     "name": "stdout",
     "output_type": "stream",
     "text": [
      "13 22 23 31 32 33 "
     ]
    }
   ],
   "source": [
    "for {\n",
    "    i <- 1 to 3\n",
    "    from = 4 -i\n",
    "    j <- from to 3\n",
    "}\n",
    "    print(f\"$i$j \")"
   ]
  },
  {
   "cell_type": "markdown",
   "metadata": {},
   "source": [
    "## Functions\n",
    "Scala has function in addition to method which operates on object. Java doesn't have pure function, but its static method concept mimics it. Some rules on function definition:\n",
    "- Keyword **```def```** is used to define. Equal sign **```=```** goes after parameters and return type definition\n",
    "- Parameters' types must be specified\n",
    "- Return type is not mandatory unless the function is recursive\n",
    "- If body of function has more than 1 expresion, use block ```{ }``` and last expresion in the block becomes returned value\n",
    "- Keyword **```return```** is not mandatory. Use it to break out of function. "
   ]
  },
  {
   "cell_type": "code",
   "execution_count": 68,
   "metadata": {
    "collapsed": false
   },
   "outputs": [
    {
     "data": {
      "text/plain": [
       "defined \u001b[32mfunction\u001b[39m \u001b[36mabsoluteValue\u001b[39m\n",
       "\u001b[36mres67_1\u001b[39m: \u001b[32mDouble\u001b[39m = \u001b[32m3.0\u001b[39m"
      ]
     },
     "execution_count": 68,
     "metadata": {},
     "output_type": "execute_result"
    }
   ],
   "source": [
    "def absoluteValue(x: Double) = if (x >= 0) x else -x\n",
    "absoluteValue(-3)"
   ]
  },
  {
   "cell_type": "code",
   "execution_count": 79,
   "metadata": {
    "collapsed": false
   },
   "outputs": [
    {
     "data": {
      "text/plain": [
       "defined \u001b[32mfunction\u001b[39m \u001b[36mfac\u001b[39m\n",
       "\u001b[36mres78_1\u001b[39m: \u001b[32mInt\u001b[39m = \u001b[32m120\u001b[39m"
      ]
     },
     "execution_count": 79,
     "metadata": {},
     "output_type": "execute_result"
    }
   ],
   "source": [
    "def fac(n: Int) = {\n",
    "    var f = 1\n",
    "    for(i <- 1 to n) f *= i\n",
    "    f\n",
    "}\n",
    "fac(5)"
   ]
  },
  {
   "cell_type": "code",
   "execution_count": 81,
   "metadata": {
    "collapsed": false
   },
   "outputs": [
    {
     "data": {
      "text/plain": [
       "defined \u001b[32mfunction\u001b[39m \u001b[36mfac\u001b[39m\n",
       "\u001b[36mres80_1\u001b[39m: \u001b[32mInt\u001b[39m = \u001b[32m120\u001b[39m"
      ]
     },
     "execution_count": 81,
     "metadata": {},
     "output_type": "execute_result"
    }
   ],
   "source": [
    "// Recursive function requires return type \n",
    "def fac(n: Int): Int = if (n <= 0) 1 else n * fac(n-1)\n",
    "fac(5)"
   ]
  },
  {
   "cell_type": "markdown",
   "metadata": {},
   "source": [
    "**Default** and **Named** Parameters"
   ]
  },
  {
   "cell_type": "code",
   "execution_count": 88,
   "metadata": {
    "collapsed": false
   },
   "outputs": [
    {
     "data": {
      "text/plain": [
       "defined \u001b[32mfunction\u001b[39m \u001b[36mgreetMe\u001b[39m\n",
       "\u001b[36mres87_1\u001b[39m: \u001b[32mString\u001b[39m = \u001b[32m\"Hello {Sir}\"\u001b[39m\n",
       "\u001b[36mres87_2\u001b[39m: \u001b[32mString\u001b[39m = \u001b[32m\"Hello (Jak}\"\u001b[39m\n",
       "\u001b[36mres87_3\u001b[39m: \u001b[32mString\u001b[39m = \u001b[32m\"Hello {Han>>\"\u001b[39m\n",
       "\u001b[36mres87_4\u001b[39m: \u001b[32mString\u001b[39m = \u001b[32m\"Hello {Jim>>\"\u001b[39m"
      ]
     },
     "execution_count": 88,
     "metadata": {},
     "output_type": "execute_result"
    }
   ],
   "source": [
    "def greetMe(name: String=\"Sir\", left: String=\"{\", right: String=\"}\") = \"Hello \" + left + name + right\n",
    "greetMe()\n",
    "greetMe(\"Jak\", \"(\")\n",
    "greetMe(\"Han\", right=\">>\")\n",
    "greetMe(right=\">>\", name=\"Jim\")"
   ]
  },
  {
   "cell_type": "code",
   "execution_count": null,
   "metadata": {
    "collapsed": true
   },
   "outputs": [],
   "source": []
  },
  {
   "cell_type": "code",
   "execution_count": null,
   "metadata": {
    "collapsed": true
   },
   "outputs": [],
   "source": []
  },
  {
   "cell_type": "code",
   "execution_count": null,
   "metadata": {
    "collapsed": true
   },
   "outputs": [],
   "source": []
  },
  {
   "cell_type": "code",
   "execution_count": null,
   "metadata": {
    "collapsed": true
   },
   "outputs": [],
   "source": []
  },
  {
   "cell_type": "code",
   "execution_count": null,
   "metadata": {
    "collapsed": true
   },
   "outputs": [],
   "source": []
  },
  {
   "cell_type": "code",
   "execution_count": null,
   "metadata": {
    "collapsed": true
   },
   "outputs": [],
   "source": []
  },
  {
   "cell_type": "code",
   "execution_count": null,
   "metadata": {
    "collapsed": true
   },
   "outputs": [],
   "source": []
  },
  {
   "cell_type": "code",
   "execution_count": null,
   "metadata": {
    "collapsed": true
   },
   "outputs": [],
   "source": []
  },
  {
   "cell_type": "code",
   "execution_count": null,
   "metadata": {
    "collapsed": true
   },
   "outputs": [],
   "source": []
  },
  {
   "cell_type": "code",
   "execution_count": null,
   "metadata": {
    "collapsed": true
   },
   "outputs": [],
   "source": []
  },
  {
   "cell_type": "code",
   "execution_count": null,
   "metadata": {
    "collapsed": true
   },
   "outputs": [],
   "source": []
  },
  {
   "cell_type": "code",
   "execution_count": null,
   "metadata": {
    "collapsed": true
   },
   "outputs": [],
   "source": []
  }
 ],
 "metadata": {
  "kernelspec": {
   "display_name": "Scala 2.10",
   "language": "scala",
   "name": "scala"
  },
  "language_info": {
   "codemirror_mode": "text/x-scala",
   "file_extension": ".scala",
   "mimetype": "text/x-scala",
   "name": "scala211",
   "nbconvert_exporter": "script",
   "pygments_lexer": "scala",
   "version": "2.11.11"
  }
 },
 "nbformat": 4,
 "nbformat_minor": 2
}
